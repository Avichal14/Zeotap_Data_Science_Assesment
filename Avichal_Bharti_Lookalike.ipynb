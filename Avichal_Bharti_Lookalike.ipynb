{
  "nbformat": 4,
  "nbformat_minor": 0,
  "metadata": {
    "colab": {
      "provenance": []
    },
    "kernelspec": {
      "name": "python3",
      "display_name": "Python 3"
    },
    "language_info": {
      "name": "python"
    }
  },
  "cells": [
    {
      "cell_type": "code",
      "execution_count": 27,
      "metadata": {
        "id": "yzSKJipyI1-m"
      },
      "outputs": [],
      "source": [
        "# Import necessary libraries\n",
        "import pandas as pd\n",
        "from sklearn.metrics.pairwise import cosine_similarity\n",
        "from sklearn.preprocessing import StandardScaler"
      ]
    },
    {
      "cell_type": "code",
      "source": [
        "# Load the datasets\n",
        "customers = pd.read_csv('Customers.csv')\n",
        "products = pd.read_csv('Products.csv')\n",
        "transactions = pd.read_csv('Transactions.csv')"
      ],
      "metadata": {
        "id": "yBUjMwHXJD_T"
      },
      "execution_count": null,
      "outputs": []
    },
    {
      "cell_type": "code",
      "source": [
        "# Step 1: Data Preparation\n",
        "# Aggregate transaction data for customer behavior\n",
        "customer_transactions = transactions.groupby('CustomerID').agg(\n",
        "    total_spent=('TotalValue', 'sum'),\n",
        "    total_quantity=('Quantity', 'sum'),\n",
        "    transaction_count=('TransactionID', 'count')\n",
        ").reset_index()"
      ],
      "metadata": {
        "id": "TfOA4GHpMHMi"
      },
      "execution_count": 22,
      "outputs": []
    },
    {
      "cell_type": "code",
      "source": [
        "# Merge with customer data for a full profile\n",
        "customer_data = pd.merge(customers, customer_transactions, on='CustomerID', how='left').fillna(0)"
      ],
      "metadata": {
        "id": "MxmFHjVyNv1p"
      },
      "execution_count": 24,
      "outputs": []
    },
    {
      "cell_type": "code",
      "source": [
        "# Encode categorical data (Region)\n",
        "customer_data = pd.get_dummies(customer_data, columns=['Region'], drop_first=True)"
      ],
      "metadata": {
        "id": "ccbINBozNyDp"
      },
      "execution_count": 25,
      "outputs": []
    },
    {
      "cell_type": "code",
      "source": [
        "# Normalize numerical features\n",
        "scaler = StandardScaler()\n",
        "numeric_features = ['total_spent', 'total_quantity', 'transaction_count']\n",
        "customer_data[numeric_features] = scaler.fit_transform(customer_data[numeric_features])"
      ],
      "metadata": {
        "id": "OwQ85h-cN4XP"
      },
      "execution_count": 28,
      "outputs": []
    },
    {
      "cell_type": "code",
      "source": [
        "# Step 2: Compute Similarity\n",
        "# Extract customer IDs and feature matrix\n",
        "customer_ids = customer_data['CustomerID']\n",
        "customer_profiles = customer_data.drop(columns=['CustomerID', 'CustomerName', 'SignupDate'])"
      ],
      "metadata": {
        "id": "tG4kPp89N6yo"
      },
      "execution_count": 29,
      "outputs": []
    },
    {
      "cell_type": "code",
      "source": [
        "# Compute cosine similarity\n",
        "similarity_matrix = cosine_similarity(customer_profiles)"
      ],
      "metadata": {
        "id": "hWcFJWagOJBZ"
      },
      "execution_count": 30,
      "outputs": []
    },
    {
      "cell_type": "code",
      "source": [
        "# Step 3: Find Top 3 Lookalikes for Customers C0001 to C0020\n",
        "lookalike_results = {}"
      ],
      "metadata": {
        "id": "FgDtXr7DOLEN"
      },
      "execution_count": 31,
      "outputs": []
    },
    {
      "cell_type": "code",
      "source": [
        "for idx, customer_id in enumerate(customer_ids[:20]):  # First 20 customers\n",
        "    similarity_scores = list(enumerate(similarity_matrix[idx]))\n",
        "    # Exclude self-comparison and sort by similarity score\n",
        "    similarity_scores = [(customer_ids[i], score) for i, score in similarity_scores if customer_ids[i] != customer_id]\n",
        "    top_3 = sorted(similarity_scores, key=lambda x: x[1], reverse=True)[:3]\n",
        "    lookalike_results[customer_id] = top_3"
      ],
      "metadata": {
        "id": "05fMAQYoOM9n"
      },
      "execution_count": 32,
      "outputs": []
    },
    {
      "cell_type": "code",
      "source": [
        "# Step 4: Save results to Lookalike.csv\n",
        "lookalike_df = pd.DataFrame([\n",
        "    {'CustomerID': cust_id, 'Lookalikes': lookalikes} for cust_id, lookalikes in lookalike_results.items()\n",
        "])\n",
        "lookalike_df.to_csv('Lookalike.csv', index=False)\n",
        "\n",
        "print(\"Lookalike Model completed. Results saved to Lookalike.csv.\")"
      ],
      "metadata": {
        "colab": {
          "base_uri": "https://localhost:8080/"
        },
        "id": "WriOguupOO1e",
        "outputId": "ff62ffd7-febc-444c-e21c-c2d6f72ad27f"
      },
      "execution_count": 34,
      "outputs": [
        {
          "output_type": "stream",
          "name": "stdout",
          "text": [
            "Lookalike Model completed. Results saved to Lookalike.csv.\n"
          ]
        }
      ]
    }
  ]
}